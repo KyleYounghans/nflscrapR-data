{
 "cells": [
  {
   "cell_type": "code",
   "execution_count": 122,
   "metadata": {},
   "outputs": [],
   "source": [
    "import pandas as pd\n",
    "import matplotlib.pyplot as plt\n",
    "import os\n",
    "import urllib.request\n",
    "from matplotlib.offsetbox import OffsetImage, AnnotationBbox"
   ]
  },
  {
   "cell_type": "code",
   "execution_count": 123,
   "metadata": {},
   "outputs": [],
   "source": [
    "url = \"https://raw.githubusercontent.com/ryurko/nflscrapR-data/master/play_by_play_data/regular_season/reg_pbp_2019.csv\""
   ]
  },
  {
   "cell_type": "code",
   "execution_count": 124,
   "metadata": {},
   "outputs": [],
   "source": [
    "data2019 = pd.read_csv(url)"
   ]
  },
  {
   "cell_type": "code",
   "execution_count": 125,
   "metadata": {},
   "outputs": [],
   "source": [
    "pd.options.mode.chained_assignment = None"
   ]
  },
  {
   "cell_type": "code",
   "execution_count": 126,
   "metadata": {},
   "outputs": [],
   "source": [
    "data2019 = data2019.loc[\n",
    "    (data2019['epa'].notnull()) &\n",
    "    ((data2019['play_type'] == 'no_play') |\n",
    "    (data2019['play_type'] == 'pass') |\n",
    "    (data2019['play_type'] == 'run'))\n",
    "]"
   ]
  },
  {
   "cell_type": "code",
   "execution_count": 127,
   "metadata": {},
   "outputs": [],
   "source": [
    "data2019.drop(data2019[(data2019['replay_or_challenge'] == 0) & (data2019['desc'].str.contains('Timeout'))].index, inplace=True)"
   ]
  },
  {
   "cell_type": "code",
   "execution_count": 128,
   "metadata": {},
   "outputs": [],
   "source": [
    "data2019 = data2019.loc[data2019.desc.str.contains('kneels|spiked') == False]"
   ]
  },
  {
   "cell_type": "code",
   "execution_count": 129,
   "metadata": {},
   "outputs": [
    {
     "data": {
      "text/plain": [
       "5       (13:01) (Shotgun) T.Cohen FUMBLES (Aborted) at...\n",
       "31      (1:50) (Shotgun) M.Trubisky pass incomplete sh...\n",
       "61      (4:19) (Shotgun) T.Cohen left tackle pushed ob...\n",
       "73      (:55) (Shotgun) PENALTY on GB-A.Rodgers, False...\n",
       "90      (13:17) (No Huddle) A.Rodgers pass incomplete ...\n",
       "                              ...                        \n",
       "8437    (1:16) (Shotgun) M.Trubisky pass incomplete de...\n",
       "8448    (:11) (Shotgun) C.Keenum sacked at CHI 26 for ...\n",
       "8484    (1:11) (No Huddle, Shotgun) PENALTY on CHI-A.L...\n",
       "8526    (1:50) (Shotgun) C.Keenum pass incomplete shor...\n",
       "8532    (:18) (Shotgun) PENALTY on WAS-V.Davis, False ...\n",
       "Name: desc, Length: 550, dtype: object"
      ]
     },
     "execution_count": 129,
     "metadata": {},
     "output_type": "execute_result"
    }
   ],
   "source": [
    "data2019['desc'].loc[data2019['play_type'] == 'no_play']"
   ]
  },
  {
   "cell_type": "code",
   "execution_count": 130,
   "metadata": {},
   "outputs": [],
   "source": [
    "data2019.loc[data2019.desc.str.contains('left end|left tackle|left guard|up the middle|right guard|right tackle|right end|rushes'),\n",
    "'play_type'] = 'run'\n",
    "\n",
    "data2019.loc[data2019.desc.str.contains('scrambles|sacked|pass'), 'play_type'] = 'pass'"
   ]
  },
  {
   "cell_type": "code",
   "execution_count": 131,
   "metadata": {},
   "outputs": [],
   "source": [
    "data2019.reset_index(drop=True, inplace=True)"
   ]
  },
  {
   "cell_type": "code",
   "execution_count": 132,
   "metadata": {},
   "outputs": [],
   "source": [
    "#Create a smaller dataframe with plays where rusher_player_name is null\n",
    "rusher_nan = data2019.loc[(data2019['play_type'] == 'run') &\n",
    "         (data2019['rusher_player_name'].isnull())]"
   ]
  },
  {
   "cell_type": "code",
   "execution_count": 133,
   "metadata": {},
   "outputs": [],
   "source": [
    "#Create a list of the indexes/indices for the plays where rusher_player_name is null\n",
    "rusher_nan_indices = list(rusher_nan.index)"
   ]
  },
  {
   "cell_type": "code",
   "execution_count": 134,
   "metadata": {},
   "outputs": [],
   "source": [
    "for i in rusher_nan_indices:\n",
    "    #Split the description on the blank spaces, isolating each word\n",
    "    desc = data2019['desc'].iloc[i].split()\n",
    "    #For each word in the play description\n",
    "    for j in range(0,len(desc)):\n",
    "        #If a word is right, up, or left\n",
    "        if desc[j] == 'right' or desc[j] == 'up' or desc[j] == 'left':\n",
    "            #Set rusher_player_name for that play to the word just before the direction\n",
    "            data2019['rusher_player_name'].iloc[i] = desc[j-1]     \n",
    "        else:\n",
    "            pass"
   ]
  },
  {
   "cell_type": "code",
   "execution_count": 135,
   "metadata": {},
   "outputs": [],
   "source": [
    "#Create a smaller dataframe with plays where passer_player_name is null\n",
    "passer_nan = data2019.loc[(data2019['play_type'] == 'pass') &\n",
    "         (data2019['passer_player_name'].isnull())]"
   ]
  },
  {
   "cell_type": "code",
   "execution_count": 136,
   "metadata": {},
   "outputs": [],
   "source": [
    "#Create a list of the indexes/indices for the plays where passer_player_name is null\n",
    "passer_nan_indices = list(passer_nan.index)"
   ]
  },
  {
   "cell_type": "code",
   "execution_count": 137,
   "metadata": {},
   "outputs": [],
   "source": [
    "for i in passer_nan_indices:\n",
    "    #Split the description on the blank spaces, isolating each word\n",
    "    desc = data2019['desc'].iloc[i].split()\n",
    "    #For each word in the play description\n",
    "    for j in range(0,len(desc)):\n",
    "        #If a word is pass\n",
    "        if desc[j] == 'pass':\n",
    "            data2019['passer_player_name'].iloc[i] = desc[j-1]            \n",
    "        else:\n",
    "            pass"
   ]
  },
  {
   "cell_type": "code",
   "execution_count": 138,
   "metadata": {},
   "outputs": [
    {
     "data": {
      "text/plain": [
       "Series([], Name: passer_player_name, dtype: bool)"
      ]
     },
     "execution_count": 138,
     "metadata": {},
     "output_type": "execute_result"
    }
   ],
   "source": [
    "#Change any backwards passes that incorrectly labeled passer_player_name as Backward\n",
    "data2019.loc[data2019['passer_player_name'] == 'Backward', 'passer_player_name'] == float('NaN')"
   ]
  },
  {
   "cell_type": "code",
   "execution_count": 139,
   "metadata": {},
   "outputs": [],
   "source": [
    "#Create a smaller dataframe with plays where receiver_player_name is null\n",
    "receiver_nan = data2019.loc[(data2019['play_type'] == 'pass') & \n",
    "                        (data2019['receiver_player_name'].isnull()) &\n",
    "                        (data2019['desc'].str.contains('scrambles|sacked|incomplete')==False)]"
   ]
  },
  {
   "cell_type": "code",
   "execution_count": 140,
   "metadata": {},
   "outputs": [],
   "source": [
    "#Create a list of the indexes/indices for the plays where receiver_player_name is null\n",
    "receiver_nan_indices = list(receiver_nan.index)"
   ]
  },
  {
   "cell_type": "code",
   "execution_count": 141,
   "metadata": {},
   "outputs": [],
   "source": [
    "for i in receiver_nan_indices:\n",
    "    desc = data2019['desc'].iloc[i].split()\n",
    "\n",
    "    for j in range(0,len(desc)):\n",
    "        if (desc[j]=='left' or desc[j]=='right' or desc[j]=='middle') and (desc[j] != desc[-1]):\n",
    "            if desc[j+1]=='to':\n",
    "                data2019['receiver_player_name'].iloc[i] = desc[j+2]\n",
    "        else:\n",
    "            pass"
   ]
  },
  {
   "cell_type": "code",
   "execution_count": 142,
   "metadata": {},
   "outputs": [],
   "source": [
    "data2019.insert(69, 'success', 0)"
   ]
  },
  {
   "cell_type": "code",
   "execution_count": 143,
   "metadata": {},
   "outputs": [],
   "source": [
    "data2019.loc[data2019['epa'] > 0, 'success'] = 1"
   ]
  },
  {
   "cell_type": "code",
   "execution_count": 144,
   "metadata": {},
   "outputs": [
    {
     "data": {
      "text/html": [
       "<div>\n",
       "<style scoped>\n",
       "    .dataframe tbody tr th:only-of-type {\n",
       "        vertical-align: middle;\n",
       "    }\n",
       "\n",
       "    .dataframe tbody tr th {\n",
       "        vertical-align: top;\n",
       "    }\n",
       "\n",
       "    .dataframe thead th {\n",
       "        text-align: right;\n",
       "    }\n",
       "</style>\n",
       "<table border=\"1\" class=\"dataframe\">\n",
       "  <thead>\n",
       "    <tr style=\"text-align: right;\">\n",
       "      <th></th>\n",
       "      <th>epa</th>\n",
       "      <th>success</th>\n",
       "      <th>yards_gained</th>\n",
       "    </tr>\n",
       "    <tr>\n",
       "      <th>rusher_player_name</th>\n",
       "      <th></th>\n",
       "      <th></th>\n",
       "      <th></th>\n",
       "    </tr>\n",
       "  </thead>\n",
       "  <tbody>\n",
       "    <tr>\n",
       "      <th>A.Abdullah</th>\n",
       "      <td>-0.551152</td>\n",
       "      <td>0.333333</td>\n",
       "      <td>3.333333</td>\n",
       "    </tr>\n",
       "    <tr>\n",
       "      <th>A.Mattison</th>\n",
       "      <td>-0.062433</td>\n",
       "      <td>0.230769</td>\n",
       "      <td>5.076923</td>\n",
       "    </tr>\n",
       "    <tr>\n",
       "      <th>A.Thielen</th>\n",
       "      <td>1.340585</td>\n",
       "      <td>1.000000</td>\n",
       "      <td>1.000000</td>\n",
       "    </tr>\n",
       "    <tr>\n",
       "      <th>D.Cook</th>\n",
       "      <td>0.214009</td>\n",
       "      <td>0.474576</td>\n",
       "      <td>6.355932</td>\n",
       "    </tr>\n",
       "    <tr>\n",
       "      <th>K.Cousins</th>\n",
       "      <td>-0.065211</td>\n",
       "      <td>0.666667</td>\n",
       "      <td>1.000000</td>\n",
       "    </tr>\n",
       "    <tr>\n",
       "      <th>M.Boone</th>\n",
       "      <td>0.145129</td>\n",
       "      <td>0.333333</td>\n",
       "      <td>9.333333</td>\n",
       "    </tr>\n",
       "  </tbody>\n",
       "</table>\n",
       "</div>"
      ],
      "text/plain": [
       "                         epa   success  yards_gained\n",
       "rusher_player_name                                  \n",
       "A.Abdullah         -0.551152  0.333333      3.333333\n",
       "A.Mattison         -0.062433  0.230769      5.076923\n",
       "A.Thielen           1.340585  1.000000      1.000000\n",
       "D.Cook              0.214009  0.474576      6.355932\n",
       "K.Cousins          -0.065211  0.666667      1.000000\n",
       "M.Boone             0.145129  0.333333      9.333333"
      ]
     },
     "execution_count": 144,
     "metadata": {},
     "output_type": "execute_result"
    }
   ],
   "source": [
    "data2019.loc[(data2019['posteam']=='MIN') & (data2019['play_type']=='run') & (data2019['down']<=4)].groupby(by='rusher_player_name')[['epa','success','yards_gained']].mean()"
   ]
  },
  {
   "cell_type": "code",
   "execution_count": 145,
   "metadata": {},
   "outputs": [],
   "source": [
    "vikings_rbs = data2019.loc[(data2019['posteam']=='MIN') & (data2019['play_type']=='run') & (data2019['down']<=4)].groupby(by='rusher_player_name')[['epa', 'success','yards_gained']].mean()"
   ]
  },
  {
   "cell_type": "code",
   "execution_count": 146,
   "metadata": {},
   "outputs": [],
   "source": [
    "#Add new column\n",
    "vikings_rbs['attempts'] = data2019.loc[(data2019['posteam']=='MIN') & (data2019['play_type']=='run') & (data2019['down']<=4)].groupby(by='rusher_player_name')['epa'].count()"
   ]
  },
  {
   "cell_type": "code",
   "execution_count": 147,
   "metadata": {},
   "outputs": [],
   "source": [
    "#Sort by mean epa\n",
    "vikings_rbs.sort_values('epa', ascending=False, inplace=True)"
   ]
  },
  {
   "cell_type": "code",
   "execution_count": 148,
   "metadata": {},
   "outputs": [],
   "source": [
    "#Filter by attempts\n",
    "vikings_rbs = vikings_rbs.loc[vikings_rbs['attempts'] > 10] "
   ]
  },
  {
   "cell_type": "code",
   "execution_count": 149,
   "metadata": {},
   "outputs": [],
   "source": [
    "vikings_rbs = vikings_rbs.round({'epa':3, 'success':2, 'yards_gained':1})"
   ]
  },
  {
   "cell_type": "code",
   "execution_count": 150,
   "metadata": {},
   "outputs": [
    {
     "data": {
      "text/html": [
       "<div>\n",
       "<style scoped>\n",
       "    .dataframe tbody tr th:only-of-type {\n",
       "        vertical-align: middle;\n",
       "    }\n",
       "\n",
       "    .dataframe tbody tr th {\n",
       "        vertical-align: top;\n",
       "    }\n",
       "\n",
       "    .dataframe thead th {\n",
       "        text-align: right;\n",
       "    }\n",
       "</style>\n",
       "<table border=\"1\" class=\"dataframe\">\n",
       "  <thead>\n",
       "    <tr style=\"text-align: right;\">\n",
       "      <th></th>\n",
       "      <th>epa</th>\n",
       "      <th>success</th>\n",
       "      <th>yards_gained</th>\n",
       "      <th>attempts</th>\n",
       "    </tr>\n",
       "    <tr>\n",
       "      <th>rusher_player_name</th>\n",
       "      <th></th>\n",
       "      <th></th>\n",
       "      <th></th>\n",
       "      <th></th>\n",
       "    </tr>\n",
       "  </thead>\n",
       "  <tbody>\n",
       "    <tr>\n",
       "      <th>D.Cook</th>\n",
       "      <td>0.214</td>\n",
       "      <td>0.47</td>\n",
       "      <td>6.4</td>\n",
       "      <td>59</td>\n",
       "    </tr>\n",
       "    <tr>\n",
       "      <th>A.Mattison</th>\n",
       "      <td>-0.062</td>\n",
       "      <td>0.23</td>\n",
       "      <td>5.1</td>\n",
       "      <td>26</td>\n",
       "    </tr>\n",
       "  </tbody>\n",
       "</table>\n",
       "</div>"
      ],
      "text/plain": [
       "                      epa  success  yards_gained  attempts\n",
       "rusher_player_name                                        \n",
       "D.Cook              0.214     0.47           6.4        59\n",
       "A.Mattison         -0.062     0.23           5.1        26"
      ]
     },
     "execution_count": 150,
     "metadata": {},
     "output_type": "execute_result"
    }
   ],
   "source": [
    "vikings_rbs"
   ]
  },
  {
   "cell_type": "code",
   "execution_count": 151,
   "metadata": {},
   "outputs": [
    {
     "data": {
      "text/plain": [
       "<matplotlib.axes._subplots.AxesSubplot at 0x1ae52d00860>"
      ]
     },
     "execution_count": 151,
     "metadata": {},
     "output_type": "execute_result"
    },
    {
     "data": {
      "image/png": "[encoded data removed]",
      "text/plain": [
       "<Figure size 432x288 with 1 Axes>"
      ]
     },
     "metadata": {
      "needs_background": "light"
     },
     "output_type": "display_data"
    }
   ],
   "source": [
    "data2019['epa'].plot.hist(bins=50)"
   ]
  },
  {
   "cell_type": "code",
   "execution_count": 152,
   "metadata": {},
   "outputs": [
    {
     "data": {
      "image/png": "[encoded data removed]",
      "text/plain": [
       "<Figure size 720x432 with 1 Axes>"
      ]
     },
     "metadata": {
      "needs_background": "light"
     },
     "output_type": "display_data"
    }
   ],
   "source": [
    "#Create figure and give it a number, enter in a figsize to modify size\n",
    "plt.figure(1, figsize=(10,6))\n",
    "#Place a histogram on the figure with the EPA of all pass plays, assign a label, choose a color\n",
    "plt.hist(data2019['epa'].loc[data2019['play_type']=='pass'], bins=50, label='Pass', color='dodgerblue')\n",
    "#Place a second histogram this time for rush plays, the alpha < 1 will make this somewhat transparent\n",
    "plt.hist(data2019['epa'].loc[data2019['play_type']=='run'], bins=50, label='Run', alpha=.7, color='darkblue')\n",
    "plt.xlabel('Expected Points Added')\n",
    "plt.ylabel('Number of Plays')\n",
    "plt.title('EPA Distribution Based on Play Type - 2019')\n",
    "plt.text(6,50,'Data from nflscrapR', fontsize=10, alpha=.7)\n",
    "#Will show the colors and labels of each histogram\n",
    "plt.legend()\n",
    "#Save the figure as a png\n",
    "plt.savefig('epa_dist.png', dpi=400)\n",
    "plt.show()"
   ]
  },
  {
   "cell_type": "code",
   "execution_count": 153,
   "metadata": {},
   "outputs": [],
   "source": [
    "#use logo folder instead\n",
    "#urls = pd.read_csv('https://raw.githubusercontent.com/statsbylopez/BlogPosts/master/nfl_teamlogos.csv')\n",
    "#for i in range(0,len(urls)):\n",
    "    #urllib.request.urlretrieve(urls['url'].iloc[i], os.getcwd() + '\\\\logos\\\\' + urls['team'].iloc[i] + '.png')"
   ]
  },
  {
   "cell_type": "code",
   "execution_count": 154,
   "metadata": {},
   "outputs": [],
   "source": [
    "def getImage(path): \n",
    "    return OffsetImage(plt.imread(path), zoom=1)"
   ]
  },
  {
   "cell_type": "code",
   "execution_count": 155,
   "metadata": {},
   "outputs": [],
   "source": [
    "logos = os.listdir(os.getcwd() + '\\\\logos\\\\')\n",
    "\n",
    "logo_paths = []\n",
    "\n",
    "for i in logos:\n",
    "    logo_paths.append(os.getcwd() + '\\\\logos\\\\' + str(i))"
   ]
  },
  {
   "cell_type": "code",
   "execution_count": 156,
   "metadata": {},
   "outputs": [],
   "source": [
    "#Make a new dataframe that contains pass success rate, grouped by team\n",
    "success_rates = data2019.loc[data2019['play_type']=='pass'].groupby(by='posteam')[['success']].mean()"
   ]
  },
  {
   "cell_type": "code",
   "execution_count": 157,
   "metadata": {},
   "outputs": [],
   "source": [
    "#Add in rushing success\n",
    "success_rates['run_success'] = data2019.loc[data2019['play_type']=='run'].groupby(by='posteam')[['success']].mean()"
   ]
  },
  {
   "cell_type": "code",
   "execution_count": 158,
   "metadata": {},
   "outputs": [],
   "source": [
    "#Relabel the columns \n",
    "success_rates.columns = [['pass_success','run_success']]"
   ]
  },
  {
   "cell_type": "code",
   "execution_count": 159,
   "metadata": {},
   "outputs": [
    {
     "data": {
      "image/png": "[encoded data removed]",
      "text/plain": [
       "<Figure size 720x720 with 1 Axes>"
      ]
     },
     "metadata": {
      "needs_background": "light"
     },
     "output_type": "display_data"
    }
   ],
   "source": [
    "#Make x and y variables for success rate data\n",
    "x = data2019.loc[data2019['play_type']=='run'].groupby(by='posteam')[['success']].mean().success.values\n",
    "y = data2019.loc[data2019['play_type']=='pass'].groupby(by='posteam')[['success']].mean().success.values\n",
    "\n",
    "#Create a figure with size 10x10\n",
    "fig, ax = plt.subplots(figsize=(10,10))\n",
    "\n",
    "#Make a scatter plot with success rate data\n",
    "ax.scatter(x, y, s=.001)\n",
    "\n",
    "#Adding logos to the chart\n",
    "for x0, y0, path in zip(x, y, logo_paths):\n",
    "    ab = AnnotationBbox(getImage(path), (x0, y0), frameon=False, fontsize=4)\n",
    "    ax.add_artist(ab)\n",
    "\n",
    "    #Adding labels and text\n",
    "ax.set_xlabel('Rush Success Rate', fontsize=14)\n",
    "ax.set_ylabel('Pass Success Rate', fontsize=14)\n",
    "ax.set_title('Rush and Pass Success Rate - 2019', fontsize=18)\n",
    "ax.text(.46, .39, 'Data from nflscrapR', fontsize=10, alpha=.7)\n",
    "\n",
    "#Save the figure as a png\n",
    "plt.savefig('2019-rush-pass-success.png', dpi=400)"
   ]
  },
  {
   "cell_type": "code",
   "execution_count": 160,
   "metadata": {},
   "outputs": [],
   "source": [
    "data2019.insert(70, 'fg_success', 0)"
   ]
  },
  {
   "cell_type": "code",
   "execution_count": 161,
   "metadata": {},
   "outputs": [],
   "source": [
    "data2019.loc[data2019['field_goal_result']=='made', 'fg_success'] = 1"
   ]
  },
  {
   "cell_type": "code",
   "execution_count": 162,
   "metadata": {},
   "outputs": [],
   "source": [
    "data2019.insert(70, 'fg_attempt', 0)"
   ]
  },
  {
   "cell_type": "code",
   "execution_count": 163,
   "metadata": {},
   "outputs": [],
   "source": [
    "data2019.loc[data2019['play_type']=='field_goal', 'fg_attempt'] = 1"
   ]
  },
  {
   "cell_type": "code",
   "execution_count": 164,
   "metadata": {},
   "outputs": [],
   "source": [
    "#FG SUCCESS\n",
    "fg_success = data2019.loc[data2019['play_type']=='field_goal'].groupby(by='home_team')[['fg_success']].mean()"
   ]
  },
  {
   "cell_type": "code",
   "execution_count": 165,
   "metadata": {},
   "outputs": [],
   "source": [
    "#FG Attempts\n",
    "fg_attempt = data2019.loc[data2019['play_type']=='field_goal'].groupby(by='home_team')[['fg_attempt']].count()"
   ]
  },
  {
   "cell_type": "code",
   "execution_count": 166,
   "metadata": {},
   "outputs": [],
   "source": [
    "#Relabel the columns \n",
    "fg_success_rates.columns = [['fg_success_rates','fg_attempts']]"
   ]
  },
  {
   "cell_type": "code",
   "execution_count": 167,
   "metadata": {},
   "outputs": [
    {
     "data": {
      "text/html": [
       "<div>\n",
       "<style scoped>\n",
       "    .dataframe tbody tr th:only-of-type {\n",
       "        vertical-align: middle;\n",
       "    }\n",
       "\n",
       "    .dataframe tbody tr th {\n",
       "        vertical-align: top;\n",
       "    }\n",
       "\n",
       "    .dataframe thead tr th {\n",
       "        text-align: left;\n",
       "    }\n",
       "\n",
       "    .dataframe thead tr:last-of-type th {\n",
       "        text-align: right;\n",
       "    }\n",
       "</style>\n",
       "<table border=\"1\" class=\"dataframe\">\n",
       "  <thead>\n",
       "    <tr>\n",
       "      <th></th>\n",
       "      <th>fg_success_rates</th>\n",
       "      <th>fg_attempts</th>\n",
       "    </tr>\n",
       "    <tr>\n",
       "      <th>home_team</th>\n",
       "      <th></th>\n",
       "      <th></th>\n",
       "    </tr>\n",
       "  </thead>\n",
       "  <tbody>\n",
       "  </tbody>\n",
       "</table>\n",
       "</div>"
      ],
      "text/plain": [
       "Empty DataFrame\n",
       "Columns: [(fg_success_rates,), (fg_attempts,)]\n",
       "Index: []"
      ]
     },
     "execution_count": 167,
     "metadata": {},
     "output_type": "execute_result"
    }
   ],
   "source": [
    "fg_success_rates"
   ]
  },
  {
   "cell_type": "code",
   "execution_count": null,
   "metadata": {},
   "outputs": [],
   "source": []
  }
 ],
 "metadata": {
  "kernelspec": {
   "display_name": "Python 3",
   "language": "python",
   "name": "python3"
  },
  "language_info": {
   "codemirror_mode": {
    "name": "ipython",
    "version": 3
   },
   "file_extension": ".py",
   "mimetype": "text/x-python",
   "name": "python",
   "nbconvert_exporter": "python",
   "pygments_lexer": "ipython3",
   "version": "3.7.3"
  }
 },
 "nbformat": 4,
 "nbformat_minor": 4
}
